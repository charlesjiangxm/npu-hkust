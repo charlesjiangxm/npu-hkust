{
 "cells": [
  {
   "cell_type": "code",
   "execution_count": 6,
   "id": "4107fd1b-0658-48a6-8cd0-2dd6d9943f1d",
   "metadata": {},
   "outputs": [
    {
     "name": "stdout",
     "output_type": "stream",
     "text": [
      "Model has been exported to conv_model.onnx\n"
     ]
    }
   ],
   "source": [
    "import torch\n",
    "import torch.nn as nn\n",
    "import torch.onnx\n",
    "\n",
    "# Define the PyTorch model\n",
    "class ConvSoftmaxModel(nn.Module):\n",
    "    def __init__(self):\n",
    "        super(ConvSoftmaxModel, self).__init__()\n",
    "        # Define the convolution layer\n",
    "        self.conv = nn.Conv2d(in_channels=16, out_channels=2, kernel_size=3, stride=1, padding=0)\n",
    "        # Define the softmax layer\n",
    "        self.softmax = nn.Softmax(dim=1)  # Softmax along the channel dimension\n",
    "\n",
    "    def forward(self, x):\n",
    "        x = self.conv(x)  # Apply convolution\n",
    "        # x = self.softmax(x)  # Apply softmax\n",
    "        return x\n",
    "\n",
    "# Initialize the model\n",
    "model = ConvSoftmaxModel()\n",
    "\n",
    "# Set model to evaluation mode\n",
    "model.eval()\n",
    "\n",
    "# Create a dummy input tensor with the specified size\n",
    "dummy_input = torch.randn(1, 16, 28, 28)\n",
    "\n",
    "# Export to ONNX\n",
    "onnx_file_name = \"conv_model.onnx\"\n",
    "torch.onnx.export(\n",
    "    model,                     # PyTorch model\n",
    "    dummy_input,               # Input tensor\n",
    "    onnx_file_name,            # Output ONNX file name\n",
    "    export_params=True,        # Store the trained weights in the model file\n",
    "    opset_version=17,          # Specify the ONNX opset version\n",
    "    do_constant_folding=True,  # Optimize the model by folding constants\n",
    "    input_names=['input'],     # Input tensor name\n",
    "    output_names=['output'],   # Output tensor name\n",
    "    dynamic_axes={             # Allow for dynamic axes (optional)\n",
    "        'input': {0: 'batch_size'},  # Batch size can be dynamic\n",
    "        'output': {0: 'batch_size'}\n",
    "    }\n",
    ")\n",
    "\n",
    "print(f\"Model has been exported to {onnx_file_name}\")"
   ]
  },
  {
   "cell_type": "code",
   "execution_count": 9,
   "id": "b6797b1b-3c95-42c8-8d46-c1d0993c820d",
   "metadata": {},
   "outputs": [
    {
     "name": "stdout",
     "output_type": "stream",
     "text": [
      "ONNX model output: [array([[[[ 0.5898721 , -0.4970696 ,  1.7205774 , ..., -0.13172416,\n",
      "          -0.42879182, -0.24764721],\n",
      "         [ 0.15201464,  0.13163836, -1.2783546 , ...,  0.19562598,\n",
      "          -0.27487624, -0.9580162 ],\n",
      "         [-0.10930234, -0.68348265,  0.9518752 , ...,  0.34615433,\n",
      "           0.34760594,  0.4766491 ],\n",
      "         ...,\n",
      "         [ 0.60248625, -0.28725997, -0.2807573 , ..., -0.69982004,\n",
      "           0.14739057,  0.71417487],\n",
      "         [-0.22566801, -0.35248914,  0.03485831, ...,  0.70564187,\n",
      "           1.1572269 , -0.76566   ],\n",
      "         [-0.95269954,  0.0625494 ,  0.8252905 , ..., -0.24186622,\n",
      "          -0.6250172 ,  0.48324895]],\n",
      "\n",
      "        [[ 0.494749  , -0.38136667,  0.41475433, ..., -0.66632915,\n",
      "           0.35288537,  0.00568765],\n",
      "         [-0.25870886,  0.4251236 , -0.12258695, ..., -0.470303  ,\n",
      "          -0.8744751 , -0.57713145],\n",
      "         [-0.76608646, -0.54289764,  0.33878696, ..., -0.14981632,\n",
      "          -0.8031319 , -0.6581247 ],\n",
      "         ...,\n",
      "         [ 0.0047756 , -0.35107037, -0.06344116, ..., -0.06413466,\n",
      "           0.44572198,  0.05302843],\n",
      "         [ 0.11038196, -0.96887845, -1.5875342 , ..., -0.9300165 ,\n",
      "           0.6912955 ,  0.66959876],\n",
      "         [ 0.3376202 , -0.08538229,  0.316984  , ..., -0.19093502,\n",
      "           0.27690068, -0.8407418 ]]]], dtype=float32)]\n"
     ]
    }
   ],
   "source": [
    "import onnx\n",
    "import onnxruntime as ort\n",
    "import numpy as np\n",
    "\n",
    "# Load the ONNX model\n",
    "onnx_model = onnx.load(onnx_file_name)\n",
    "onnx.checker.check_model(onnx_model)  # Check the model for validity\n",
    "\n",
    "# Run inference with ONNX Runtime\n",
    "ort_session = ort.InferenceSession(onnx_file_name)\n",
    "\n",
    "# Prepare input for ONNX Runtime\n",
    "onnx_input = {\"input\": dummy_input.numpy()}\n",
    "onnx_output = ort_session.run(None, onnx_input)\n",
    "\n",
    "# Save the input data as an .npz file with the key \"input\"\n",
    "np.savez(\"random_input.npz\", input=dummy_input.numpy())\n",
    "\n",
    "print(\"ONNX model output:\", onnx_output)"
   ]
  },
  {
   "cell_type": "code",
   "execution_count": 5,
   "id": "940a2c5a-2b6c-4d9b-bcf6-4eaf9f4758a8",
   "metadata": {},
   "outputs": [
    {
     "name": "stdout",
     "output_type": "stream",
     "text": [
      "ONNX model has been saved to matmul.onnx\n"
     ]
    }
   ],
   "source": [
    "import torch\n",
    "import torch.nn as nn\n",
    "import torch.onnx\n",
    "\n",
    "# Define a custom PyTorch model for a single matrix multiplication\n",
    "class MatrixMultiplicationModel(nn.Module):\n",
    "    def __init__(self):\n",
    "        super(MatrixMultiplicationModel, self).__init__()\n",
    "\n",
    "    def forward(self, x, y):\n",
    "        return torch.matmul(x, y)\n",
    "\n",
    "# Initialize the model\n",
    "model = MatrixMultiplicationModel()\n",
    "\n",
    "# Create dummy inputs (1024, 1024) matrices\n",
    "input_1 = torch.randn(1, 1, 1024, 1024)\n",
    "input_2 = torch.randn(1, 1, 1024, 1024)\n",
    "\n",
    "# Export the model to ONNX\n",
    "onnx_file_path = \"matmul.onnx\"\n",
    "torch.onnx.export(\n",
    "    model,                           # The model\n",
    "    (input_1, input_2),              # The model inputs\n",
    "    onnx_file_path,                  # Path to save the ONNX file\n",
    "    opset_version=17,                # Specify the ONNX opset version\n",
    "    input_names=[\"input_1\", \"input_2\"],  # Input tensor names\n",
    "    output_names=[\"output\"],         # Output tensor name\n",
    ")\n",
    "\n",
    "print(f\"ONNX model has been saved to {onnx_file_path}\")"
   ]
  },
  {
   "cell_type": "code",
   "execution_count": 6,
   "id": "12e8711f-a145-4a94-8e96-aede1e768542",
   "metadata": {},
   "outputs": [
    {
     "name": "stdout",
     "output_type": "stream",
     "text": [
      "Random inputs have been saved to random_input.npz\n"
     ]
    }
   ],
   "source": [
    "import numpy as np\n",
    "\n",
    "# Generate random inputs for the model\n",
    "input_1 = np.random.randn(1, 1, 1024, 1024).astype(np.float32)  # Random float32 array (1024x1024)\n",
    "input_2 = np.random.randn(1, 1, 1024, 1024).astype(np.float32)  # Random float32 array (1024x1024)\n",
    "\n",
    "# Save the inputs as a .npz file\n",
    "npz_file_path = \"random_input.npz\"\n",
    "np.savez(npz_file_path, input_1=input_1, input_2=input_2)\n",
    "\n",
    "print(f\"Random inputs have been saved to {npz_file_path}\")"
   ]
  },
  {
   "cell_type": "code",
   "execution_count": 19,
   "id": "e935e855-afb7-4f12-8223-b9d79a57cf8b",
   "metadata": {},
   "outputs": [
    {
     "name": "stdout",
     "output_type": "stream",
     "text": [
      "model has 2.147483648 GOP\n",
      "model GOPS/s=2.5749204412470026\n"
     ]
    }
   ],
   "source": [
    "# Dimensions of the matrices\n",
    "A = 1024\n",
    "B = 1024\n",
    "C = 1024\n",
    "runtime_ms = 834\n",
    "\n",
    "# FLOPS formula: 2 * A * B * C\n",
    "flops = 2 * A * B * C\n",
    "gflops = flops/10**9\n",
    "gflop_pers = gflops / (runtime_ms*10**(-3))\n",
    "print(f\"model has {gflops:,} GOP\")\n",
    "print(f\"model GOPS/s={gflop_pers:,}\")"
   ]
  },
  {
   "cell_type": "code",
   "execution_count": null,
   "id": "fcdf6aef-76e4-4912-a332-446dc198f818",
   "metadata": {},
   "outputs": [],
   "source": []
  },
  {
   "cell_type": "code",
   "execution_count": null,
   "id": "7b4b0974-5ea9-4cde-bcc4-ba1be3802961",
   "metadata": {},
   "outputs": [],
   "source": []
  }
 ],
 "metadata": {
  "kernelspec": {
   "display_name": "Python 3 (ipykernel)",
   "language": "python",
   "name": "python3"
  },
  "language_info": {
   "codemirror_mode": {
    "name": "ipython",
    "version": 3
   },
   "file_extension": ".py",
   "mimetype": "text/x-python",
   "name": "python",
   "nbconvert_exporter": "python",
   "pygments_lexer": "ipython3",
   "version": "3.12.7"
  }
 },
 "nbformat": 4,
 "nbformat_minor": 5
}
